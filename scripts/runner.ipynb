{
 "cells": [
  {
   "cell_type": "code",
   "execution_count": null,
   "metadata": {},
   "outputs": [
    {
     "name": "stderr",
     "output_type": "stream",
     "text": [
      "/home/cc/anaconda3/lib/python3.6/site-packages/h5py/__init__.py:36: FutureWarning: Conversion of the second argument of issubdtype from `float` to `np.floating` is deprecated. In future, it will be treated as `np.float64 == np.dtype(float).type`.\n",
      "  from ._conv import register_converters as _register_converters\n",
      "Using TensorFlow backend.\n"
     ]
    },
    {
     "name": "stdout",
     "output_type": "stream",
     "text": [
      "start processing\n",
      "number of grace months in the dataset= 183\n",
      "grace extents= (480, 561, 195, 276)\n",
      "basin extents is  (960, 1121, 271, 432)\n",
      "dx,dy 0.3333333333333333 0.3333333333333333\n",
      "mask size (120, 120)\n",
      "inner mask size (120, 120)\n",
      "loading sm data ...\n",
      "(204, 25921)\n",
      "loading canopy data ...\n",
      "(204, 25921)\n",
      "loading snow water data ...\n",
      "(204, 25921)\n",
      "load precip data ...\n",
      "(204, 25921)\n",
      "(204, 1)\n",
      "number of valid cells=14161\n",
      "ndvi extents (0, 801, 0, 801)\n"
     ]
    },
    {
     "name": "stderr",
     "output_type": "stream",
     "text": [
      "gldasLocal.py:566: DeprecationWarning: `imresize` is deprecated!\n",
      "`imresize` is deprecated in SciPy 1.0.0, and will be removed in 1.2.0.\n",
      "Use ``skimage.transform.resize`` instead.\n",
      "  res = np.array(imresize(img0, size=(N,N), mode='F', interp=INT_METHOD), dtype=np.float64)\n",
      "gldasLocal.py:628: DeprecationWarning: `imresize` is deprecated!\n",
      "`imresize` is deprecated in SciPy 1.0.0, and will be removed in 1.2.0.\n",
      "Use ``skimage.transform.resize`` instead.\n",
      "  d1 = np.array(imresize(img0, size=(N,N), mode='F', interp=INT_METHOD), dtype=np.float64)\n",
      "gldasLocal.py:629: DeprecationWarning: `imresize` is deprecated!\n",
      "`imresize` is deprecated in SciPy 1.0.0, and will be removed in 1.2.0.\n",
      "Use ``skimage.transform.resize`` instead.\n",
      "  d2 = np.array(imresize(img1, size=(N,N), mode='F', interp=INT_METHOD), dtype=np.float64)\n",
      "gldasLocal.py:998: DeprecationWarning: `imresize` is deprecated!\n",
      "`imresize` is deprecated in SciPy 1.0.0, and will be removed in 1.2.0.\n",
      "Use ``skimage.transform.resize`` instead.\n",
      "  res = imresize(img, size=(N,N), mode='F', interp=INT_METHOD)\n"
     ]
    },
    {
     "name": "stdout",
     "output_type": "stream",
     "text": [
      "number of months=177\n",
      "(177, 801, 801)\n"
     ]
    },
    {
     "name": "stderr",
     "output_type": "stream",
     "text": [
      "gldasLocal.py:898: DeprecationWarning: `imresize` is deprecated!\n",
      "`imresize` is deprecated in SciPy 1.0.0, and will be removed in 1.2.0.\n",
      "Use ``skimage.transform.resize`` instead.\n",
      "  res = np.array(imresize(img0, size=(N,N), mode='F', interp=INT_METHOD), dtype=np.float64)\n"
     ]
    },
    {
     "name": "stdout",
     "output_type": "stream",
     "text": [
      "in get basin bound (960, 1121, 271, 432)\n",
      "1.3416666666666666 1.3416666666666666\n",
      "(4, 120, 120)\n",
      "(2279,)\n",
      "mean=2.371915785789666, skew1.2143195826775106\n",
      "(4, 120, 120)\n",
      "(2279,)\n",
      "mean=10.939289959898991, skew0.5792961804980019\n",
      "(4, 120, 120)\n",
      "(2279,)\n",
      "mean=0.5900020868471645, skew-1.138216354308061\n",
      "(4, 120, 120)\n",
      "(2279,)\n",
      "mean=-9.400224045403343, skew0.038193897828139554\n",
      "Processing, ../data/GWSA_13Nov15Modified.csv\n",
      "(3990, 36)\n",
      "(3990, 4)\n",
      "(143640, 3)\n",
      "1.3416666666666666 1.3416666666666666\n",
      "grid dimension:120,120\n"
     ]
    }
   ],
   "source": [
    "%run -i 'gldasLocal.py'"
   ]
  },
  {
   "cell_type": "code",
   "execution_count": null,
   "metadata": {},
   "outputs": [],
   "source": []
  },
  {
   "cell_type": "code",
   "execution_count": null,
   "metadata": {},
   "outputs": [],
   "source": []
  }
 ],
 "metadata": {
  "kernelspec": {
   "display_name": "Python 3",
   "language": "python",
   "name": "python3"
  },
  "language_info": {
   "codemirror_mode": {
    "name": "ipython",
    "version": 3
   },
   "file_extension": ".py",
   "mimetype": "text/x-python",
   "name": "python",
   "nbconvert_exporter": "python",
   "pygments_lexer": "ipython3",
   "version": "3.6.4"
  }
 },
 "nbformat": 4,
 "nbformat_minor": 2
}
